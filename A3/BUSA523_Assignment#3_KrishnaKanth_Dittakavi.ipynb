{
 "cells": [
  {
   "cell_type": "markdown",
   "id": "d5848def",
   "metadata": {},
   "source": [
    "# BUSA 523 - Assignment#3 - Krishna Kanth Dittakavi "
   ]
  },
  {
   "cell_type": "markdown",
   "id": "88b11b4c",
   "metadata": {},
   "source": [
    "Q1. Create a class to store student records. Each student has a first name, last name,country, overall grade (0 - 4.0 scale), credits completed (total 30) and major.Create a method within this class to evaluate student progress.\n",
    "\n",
    "a. Progress - “Good”: if grades are above 3.0 and credits completed is greater than 20\n",
    "b. Progress - “Average”: if grades are above 2.5 or credits completed is between 10 and 20\n",
    "c. Progress - “Good”: if grades are below 2.5"
   ]
  },
  {
   "cell_type": "code",
   "execution_count": 23,
   "id": "0b7a6100",
   "metadata": {
    "scrolled": true
   },
   "outputs": [
    {
     "name": "stdout",
     "output_type": "stream",
     "text": [
      "Good\n",
      "Average\n",
      "Bad\n"
     ]
    }
   ],
   "source": [
    "class Student:\n",
    "\n",
    "    def add(self, first_name, last_name, city, grade, credit_completed):\n",
    "        self.first_name=first_name\n",
    "        self.last_name=last_name\n",
    "        self.city=city\n",
    "        self.grade=grade\n",
    "        self.credit_completed=credit_completed\n",
    "\n",
    "    def evaluate (self):\n",
    "        if self.grade > 3.0 and self.credit_completed > 20:\n",
    "            progress = \"Good\"\n",
    "        elif self.grade > 2.5 and self.credit_completed > 10 and  self.credit_completed < 20:\n",
    "            progress =\"Average\"\n",
    "        else:\n",
    "            progress=\"Bad\"\n",
    "\n",
    "        return progress\n",
    "\n",
    "studentObj = Student()\n",
    "\n",
    "studentObj.add('Mark','Zuckerberg', 'San Fransisco', 3.1, 21)\n",
    "print(studentObj.evaluate())\n",
    "\n",
    "studentObj.add('Elon','Musk', 'Austin', 2.6, 15)\n",
    "print(studentObj.evaluate())\n",
    "\n",
    "studentObj.add('Jeff','Bezos', 'Seattle', 2.2, 15)\n",
    "print(studentObj.evaluate())"
   ]
  },
  {
   "cell_type": "markdown",
   "id": "3104e467",
   "metadata": {},
   "source": [
    "Q2. Write a function which separates the positive and negative numbers from a\n",
    "list of numbers. Input: [-6, 5, -3, -2, 1, 0, -8, 9, 3]   Output: [-6, -3, -2, -8], [5, 1, 9, 3]"
   ]
  },
  {
   "cell_type": "code",
   "execution_count": 16,
   "id": "b85bd266",
   "metadata": {},
   "outputs": [
    {
     "name": "stdout",
     "output_type": "stream",
     "text": [
      "[5, 1, 0, 9, 3]\n",
      "[-6, -3, -2, -8]\n"
     ]
    }
   ],
   "source": [
    "list = [-6, 5, -3, -2, 1, 0, -8, 9, 3]\n",
    "new_list =[]\n",
    "new_integer_list =[]\n",
    "for i in list:\n",
    "    if i >=0:\n",
    "        new_list.append(i)\n",
    "    else:\n",
    "        new_integer_list.append(i)\n",
    "print(new_list)\n",
    "print(new_integer_list)"
   ]
  },
  {
   "cell_type": "markdown",
   "id": "29a8e377",
   "metadata": {},
   "source": [
    "Q3. Write a function which outputs all winning possibilities for a given player’s score. Assume the score is always greater than 15 and the dealer is dealt only 2 cards. \n",
    "Input - 18 (player’s final score)\n",
    "Output - [(9,10), (10,11), (10,10), (11,9), (11,8)]"
   ]
  },
  {
   "cell_type": "code",
   "execution_count": 11,
   "id": "d2a1dd1c",
   "metadata": {},
   "outputs": [
    {
     "name": "stdout",
     "output_type": "stream",
     "text": [
      "Final player score = 18\n",
      "Winning_options =  [[8, 11], [9, 10], [9, 11], [10, 10]]\n"
     ]
    }
   ],
   "source": [
    "def possibilities(numb):\n",
    "    probability = []\n",
    "    for i in range (1, 11):\n",
    "        for j in range (i, 12):\n",
    "            if (numb < i+j and i+j < 21):\n",
    "                probability.append([i, j])\n",
    "    \n",
    "    print(\"Winning_options = \", probability)\n",
    "    \n",
    "n = int(input(\"Final player score = \"))\n",
    "\n",
    "possibilities(n)"
   ]
  },
  {
   "cell_type": "markdown",
   "id": "db35ff9d",
   "metadata": {},
   "source": [
    "Q4.Calculate the number of steps & Big O order for the programs in question 2 and 3."
   ]
  },
  {
   "cell_type": "code",
   "execution_count": 22,
   "id": "dfdb164c",
   "metadata": {},
   "outputs": [
    {
     "name": "stdout",
     "output_type": "stream",
     "text": [
      "[5, 1, 0, 9, 3]\n",
      "[-6, -3, -2, -8]\n",
      "Final player score =18\n",
      "Winning options =  [[8, 11], [9, 10], [9, 11], [10, 10]]\n",
      "176 ns ± 20.4 ns per loop (mean ± std. dev. of 7 runs, 10000000 loops each)\n",
      "165 ns ± 12.5 ns per loop (mean ± std. dev. of 7 runs, 10000000 loops each)\n"
     ]
    }
   ],
   "source": [
    "list = [-6, 5, -3, -2, 1, 0, -8, 9, 3]\n",
    "new_list =[]\n",
    "new_integer_list =[]\n",
    "for i in list: #n\n",
    "    if i >=0:\n",
    "        new_list.append(i)\n",
    "    else:\n",
    "        new_integer_list.append(i)\n",
    "print(new_list)\n",
    "print(new_integer_list) \n",
    "\n",
    "#\n",
    "\n",
    "def possibilities (numb):\n",
    "    probability = []\n",
    "    for i in range(1,11): #n\n",
    "        for j in range(i,12): #n\n",
    "            \n",
    "            if (numb < i+j and i+j <21):\n",
    "                probability.append([i,j])\n",
    "    print(\"Winning options = \",probability)\n",
    "    \n",
    "n = int(input(\"Final player score =\"))\n",
    "\n",
    "possibilities(n)\n",
    "                \n",
    "def loop(list):\n",
    "    return 0\n",
    "\n",
    "%timeit loop(list)\n",
    "%timeit loop(possibilities)"
   ]
  },
  {
   "cell_type": "code",
   "execution_count": null,
   "id": "f1360dfa",
   "metadata": {},
   "outputs": [],
   "source": []
  }
 ],
 "metadata": {
  "kernelspec": {
   "display_name": "Python 3 (ipykernel)",
   "language": "python",
   "name": "python3"
  },
  "language_info": {
   "codemirror_mode": {
    "name": "ipython",
    "version": 3
   },
   "file_extension": ".py",
   "mimetype": "text/x-python",
   "name": "python",
   "nbconvert_exporter": "python",
   "pygments_lexer": "ipython3",
   "version": "3.9.7"
  }
 },
 "nbformat": 4,
 "nbformat_minor": 5
}
