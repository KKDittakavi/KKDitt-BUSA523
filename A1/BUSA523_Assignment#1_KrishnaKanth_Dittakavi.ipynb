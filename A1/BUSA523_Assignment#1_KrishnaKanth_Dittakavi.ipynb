{
 "cells": [
  {
   "cell_type": "markdown",
   "id": "d5848def",
   "metadata": {},
   "source": [
    "# BUSA 523 - Assignment 1 - Krishna Kanth Dittakavi "
   ]
  },
  {
   "cell_type": "markdown",
   "id": "2fe12c72",
   "metadata": {},
   "source": [
    "Q1.Write a program which randomly selects a number between 1 and 20. The user is then given 5 chances to guess the number correctly to win."
   ]
  },
  {
   "cell_type": "code",
   "execution_count": 7,
   "id": "5529adb8",
   "metadata": {
    "scrolled": true
   },
   "outputs": [
    {
     "name": "stdout",
     "output_type": "stream",
     "text": [
      "Enter any number between 1 and 20. You have only 5 attempts\n",
      "1\n",
      "Please guess again\n",
      "8\n",
      "Please guess again\n",
      "9\n",
      "Please guess again\n",
      "14\n",
      "Please guess again\n",
      "19\n",
      "Please guess again\n",
      "The number I was thinking was 4.\n"
     ]
    }
   ],
   "source": [
    "import random\n",
    "guess_number = random.randint(1,20)\n",
    "print(\"Enter any number between 1 and 20. You have only 5 attempts\")\n",
    "\n",
    "for total_guesses in range(5):\n",
    "    guess = int(input())    \n",
    "    if guess < guess_number:\n",
    "        print(\"Please guess again\")\n",
    "    elif guess > guess_number:\n",
    "              print(\"Please guess again\")\n",
    "    else: \n",
    "        break\n",
    "\n",
    "if guess == guess_number:\n",
    "    total_guesses = str(total_guesses + 1)\n",
    "    print( \"It took you \" + total_guesses + \" attempts to guess the right number\")\n",
    "\n",
    "if guess != guess_number:\n",
    "    guess_number = str(guess_number)\n",
    "    print(\"The number I was thinking was \" + guess_number + \".\")\n"
   ]
  },
  {
   "cell_type": "markdown",
   "id": "7ca916de",
   "metadata": {},
   "source": [
    "Q2.Make the following changes to the above program.After each guess, print if the next guess should be lower or higher. For\n",
    "example, if the computer selection is 10 and the user input is 6, printguess a higher value.\n"
   ]
  },
  {
   "cell_type": "code",
   "execution_count": 8,
   "id": "5b3311fa",
   "metadata": {
    "scrolled": true
   },
   "outputs": [
    {
     "name": "stdout",
     "output_type": "stream",
     "text": [
      "Enter your value: 18\n",
      "User input 18\n",
      "Computer selection 9\n",
      "your choice greater than computer selection\n",
      "Enter your value: 12\n",
      "User input 12\n",
      "Computer selection 11\n",
      "your choice greater than computer selection\n",
      "Enter your value: 9\n",
      "User input 9\n",
      "Computer selection 8\n",
      "your choice greater than computer selection\n",
      "Enter your value: 6\n",
      "User input 6\n",
      "Computer selection 3\n",
      "your choice greater than computer selection\n",
      "Enter your value: 1\n",
      "User input 1\n",
      "Computer selection 8\n",
      "Your choice less than computer selection\n",
      "Sorry, you exceed the attempts to guess the right number\n"
     ]
    }
   ],
   "source": [
    "import random\n",
    "\n",
    "counter = 0\n",
    "while counter < 5:\n",
    "    val = input(\"Enter your value: \")\n",
    "    print(\"User input\", val)\n",
    "    choice = random.randint(1, 20)\n",
    "    print (\"Computer selection\",choice)\n",
    "    if choice < int(val):\n",
    "        print (\"your choice greater than computer selection\")\n",
    "    elif choice > int(val):\n",
    "        print(\"Your choice less than computer selection\")\n",
    "    elif choice == int(val):\n",
    "        print(\"Your choice is matched\")\n",
    "        exit()\n",
    "\n",
    "    counter = counter +1\n",
    "\n",
    "print (\"Sorry, you exceed the attempts to guess the right number\")\n"
   ]
  },
  {
   "cell_type": "markdown",
   "id": "35f47f6d",
   "metadata": {},
   "source": [
    "Q3.Write a program for “Rock-Paper-Scissors-Lizard-Spock”. "
   ]
  },
  {
   "cell_type": "code",
   "execution_count": 11,
   "id": "05378871",
   "metadata": {},
   "outputs": [
    {
     "name": "stdout",
     "output_type": "stream",
     "text": [
      "Enter your move: Rock, Paper, Scissors, Lizard or Spock\n",
      "Lizard\n",
      "You Lose!\n"
     ]
    }
   ],
   "source": [
    "import random\n",
    "\n",
    "print(\"Enter your move: Rock, Paper, Scissors, Lizard or Spock\")\n",
    "user = input()\n",
    "\n",
    "number = random.randint(1,5)\n",
    "\n",
    "if number == 1:\n",
    "    computer = \"Rock\"\n",
    "elif number == 2:\n",
    "    computer = \"Paper\"\n",
    "elif number == 3:\n",
    "    computer = \"Scissors\"\n",
    "elif number == 4:\n",
    "    computer = \"Lizard\"\n",
    "elif number == 5:\n",
    "    computer = \"Spock\"\n",
    "    \n",
    "if user == computer:\n",
    "    print(\"It's a Tie!\")\n",
    "elif user == \"Rock\" and computer == \"Spock\":\n",
    "    print(\"You Win!\")\n",
    "elif user == \"Paper\" and computer == \"Rock\":\n",
    "    print(\"You Win!\")\n",
    "elif user == \"Scissors\" and computer == \"Paper\":\n",
    "    print(\"You Win!\")\n",
    "elif user == \"Lizard\" and computer == \"Scissors\":\n",
    "    print(\"You Win!\")\n",
    "elif user == \"Spock\" and computer == \"Lizard\":\n",
    "    print(\"You Win!\")\n",
    "    \n",
    "elif user == \"Rock\" and computer == \"Lizard\":\n",
    "    print(\"You Lose!\")\n",
    "elif user == \"Paper\" and computer == \"Spock\":\n",
    "    print(\"You Lose!\")\n",
    "elif user == \"Scissors\" and computer == \"Rock\":\n",
    "    print(\"You Lose!\")\n",
    "elif user == \"Lizard\" and computer == \"Paper\":\n",
    "    print(\"You Lose!\")\n",
    "elif user == \"Spock\" and computer == \"Scissors\":\n",
    "    print(\"You Lose!\")\n",
    "\n",
    "else:\n",
    "    print(\"Invalid Entry\")"
   ]
  },
  {
   "cell_type": "code",
   "execution_count": null,
   "id": "933792d4",
   "metadata": {},
   "outputs": [],
   "source": []
  },
  {
   "cell_type": "code",
   "execution_count": null,
   "id": "95c31137",
   "metadata": {},
   "outputs": [],
   "source": []
  }
 ],
 "metadata": {
  "kernelspec": {
   "display_name": "Python 3 (ipykernel)",
   "language": "python",
   "name": "python3"
  },
  "language_info": {
   "codemirror_mode": {
    "name": "ipython",
    "version": 3
   },
   "file_extension": ".py",
   "mimetype": "text/x-python",
   "name": "python",
   "nbconvert_exporter": "python",
   "pygments_lexer": "ipython3",
   "version": "3.9.7"
  }
 },
 "nbformat": 4,
 "nbformat_minor": 5
}
